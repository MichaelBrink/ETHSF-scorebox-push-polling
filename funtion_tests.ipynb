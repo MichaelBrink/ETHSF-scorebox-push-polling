{
 "cells": [
  {
   "cell_type": "code",
   "execution_count": 10,
   "id": "76e648fe",
   "metadata": {},
   "outputs": [],
   "source": [
    "import time\n",
    "from datetime import date\n",
    "from datetime import datetime"
   ]
  },
  {
   "cell_type": "code",
   "execution_count": 15,
   "id": "fffe22bb",
   "metadata": {},
   "outputs": [
    {
     "name": "stdout",
     "output_type": "stream",
     "text": [
      "2022-11-05 00:41:52.379784\n"
     ]
    }
   ],
   "source": [
    "print(datetime.today())"
   ]
  },
  {
   "cell_type": "code",
   "execution_count": 56,
   "id": "299ed669",
   "metadata": {},
   "outputs": [],
   "source": [
    "example = [['0x9cc9cd7df8f5a15d0a0068f8978264b969aaa1de', 'notify_24'], ['0x691C7c07A1B1698c56340d386d8cC7A823f6e2D8', 'notify_24'], ['0x4287996d1725e9883aa9d8f265a3f5bd2c8e4126', 'notify_48'], ['mayllonkim.testnet', 'notify_72'], ['0x17bc47ac80bf6be93fb1109d4ef0f8b4f8046f60', 'notify_48'], ['0x9022a898B401d368cBa4023ef375beEF165a8128', 'notify_48'], ['0x9017804aE02877C32739A7703400326e9Ac9a04d', 'notify_48'], ['0x61ec3Cd93E62a858408c92bdec903304c4C5436e', 'notify_48'], ['0xFa37d93a18Ed35139785629840B62f7C3aE7d088', 'notify_48'], ['0xe9c079525aCe13822A7845774F163f27eb5f21Da', 'notify_48'], ['0xfb3f73d7d057ba72c3283b7f3eec4d3445f86ee0', 'notify_48'], ['0x67c2952229d829b8bc40ba3c957e943d884fc739', 'notify_48'], ['yoonkim.testnet', 'notify_48']]"
   ]
  },
  {
   "cell_type": "code",
   "execution_count": 76,
   "id": "c17905e0",
   "metadata": {},
   "outputs": [],
   "source": [
    "##Function for splitting a list in sublists based on msg matching\n",
    "def msg_group(mailing_list):\n",
    "    \n",
    "    ls_24=[]\n",
    "    ls_48=[]\n",
    "    ls_72=[]\n",
    "\n",
    "    for item in mailing_list:\n",
    "        if item[1] == \"notify_24\":\n",
    "            ls_24.append(item[0])\n",
    "        elif item[1] == \"notify_48\":\n",
    "            ls_48.append(item[0])\n",
    "        else:\n",
    "            ls_72.append(item[0])\n",
    "\n",
    "    return([{\"24\":ls_24}, {\"48\":ls_48}, {\"72\":ls_72}])"
   ]
  },
  {
   "cell_type": "code",
   "execution_count": 82,
   "id": "622b9bb4",
   "metadata": {},
   "outputs": [
    {
     "ename": "ValueError",
     "evalue": "not enough values to unpack (expected 2, got 1)",
     "output_type": "error",
     "traceback": [
      "\u001b[0;31m---------------------------------------------------------------------------\u001b[0m",
      "\u001b[0;31mValueError\u001b[0m                                Traceback (most recent call last)",
      "\u001b[0;32m<ipython-input-82-046e8c04f46f>\u001b[0m in \u001b[0;36m<module>\u001b[0;34m\u001b[0m\n\u001b[0;32m----> 1\u001b[0;31m \u001b[0;32mfor\u001b[0m \u001b[0mk\u001b[0m\u001b[0;34m,\u001b[0m \u001b[0mv\u001b[0m \u001b[0;32min\u001b[0m \u001b[0mmsg_group\u001b[0m\u001b[0;34m(\u001b[0m\u001b[0mexample\u001b[0m\u001b[0;34m)\u001b[0m\u001b[0;34m:\u001b[0m\u001b[0;34m\u001b[0m\u001b[0;34m\u001b[0m\u001b[0m\n\u001b[0m\u001b[1;32m      2\u001b[0m     \u001b[0;32mtry\u001b[0m\u001b[0;34m:\u001b[0m\u001b[0;34m\u001b[0m\u001b[0;34m\u001b[0m\u001b[0m\n\u001b[1;32m      3\u001b[0m         \u001b[0mprint\u001b[0m \u001b[0;34m(\u001b[0m\u001b[0mitem\u001b[0m\u001b[0;34m[\u001b[0m\u001b[0mkey\u001b[0m\u001b[0;34m]\u001b[0m\u001b[0;34m)\u001b[0m\u001b[0;34m\u001b[0m\u001b[0;34m\u001b[0m\u001b[0m\n\u001b[1;32m      4\u001b[0m     \u001b[0;32mexcept\u001b[0m\u001b[0;34m:\u001b[0m\u001b[0;34m\u001b[0m\u001b[0;34m\u001b[0m\u001b[0m\n\u001b[1;32m      5\u001b[0m         \u001b[0;32mpass\u001b[0m\u001b[0;34m\u001b[0m\u001b[0;34m\u001b[0m\u001b[0m\n",
      "\u001b[0;31mValueError\u001b[0m: not enough values to unpack (expected 2, got 1)"
     ]
    }
   ],
   "source": [
    "for i in d:\n",
    "    print i, d[i]\n",
    "\n",
    "for k, v in msg_group(example): \n",
    "    try:\n",
    "        print (item[key])\n",
    "    except:\n",
    "        pass"
   ]
  },
  {
   "cell_type": "code",
   "execution_count": 69,
   "id": "9442b96a",
   "metadata": {},
   "outputs": [],
   "source": [
    "from itertools import chain"
   ]
  },
  {
   "cell_type": "code",
   "execution_count": 75,
   "id": "ceade1b0",
   "metadata": {},
   "outputs": [
    {
     "name": "stdout",
     "output_type": "stream",
     "text": [
      "[['0x9cc9cd7df8f5a15d0a0068f8978264b969aaa1de', 'notify_24'], ['0x691C7c07A1B1698c56340d386d8cC7A823f6e2D8', 'notify_24'], ['0x4287996d1725e9883aa9d8f265a3f5bd2c8e4126', 'notify_48'], ['0x17bc47ac80bf6be93fb1109d4ef0f8b4f8046f60', 'notify_48'], ['0x9022a898B401d368cBa4023ef375beEF165a8128', 'notify_48'], ['0x9017804aE02877C32739A7703400326e9Ac9a04d', 'notify_48'], ['0x61ec3Cd93E62a858408c92bdec903304c4C5436e', 'notify_48'], ['0xFa37d93a18Ed35139785629840B62f7C3aE7d088', 'notify_48'], ['0xe9c079525aCe13822A7845774F163f27eb5f21Da', 'notify_48'], ['0xfb3f73d7d057ba72c3283b7f3eec4d3445f86ee0', 'notify_48'], ['0x67c2952229d829b8bc40ba3c957e943d884fc739', 'notify_48'], ['yoonkim.testnet', 'notify_48'], ['mayllonkim.testnet', 'notify_72']]\n"
     ]
    },
    {
     "ename": "TypeError",
     "evalue": "'NoneType' object is not iterable",
     "output_type": "error",
     "traceback": [
      "\u001b[0;31m---------------------------------------------------------------------------\u001b[0m",
      "\u001b[0;31mTypeError\u001b[0m                                 Traceback (most recent call last)",
      "\u001b[0;32m<ipython-input-75-17211662662c>\u001b[0m in \u001b[0;36m<module>\u001b[0;34m\u001b[0m\n\u001b[0;32m----> 1\u001b[0;31m \u001b[0;32mfor\u001b[0m \u001b[0mitem\u001b[0m \u001b[0;32min\u001b[0m \u001b[0mprint\u001b[0m \u001b[0;34m(\u001b[0m\u001b[0mlist\u001b[0m\u001b[0;34m(\u001b[0m\u001b[0mchain\u001b[0m\u001b[0;34m.\u001b[0m\u001b[0mfrom_iterable\u001b[0m\u001b[0;34m(\u001b[0m\u001b[0mmsg_group\u001b[0m\u001b[0;34m(\u001b[0m\u001b[0mexample\u001b[0m\u001b[0;34m)\u001b[0m\u001b[0;34m)\u001b[0m\u001b[0;34m)\u001b[0m\u001b[0;34m)\u001b[0m\u001b[0;34m:\u001b[0m\u001b[0;34m\u001b[0m\u001b[0;34m\u001b[0m\u001b[0m\n\u001b[0m\u001b[1;32m      2\u001b[0m     \u001b[0mprint\u001b[0m\u001b[0;34m(\u001b[0m\u001b[0mitem\u001b[0m\u001b[0;34m[\u001b[0m\u001b[0;36m1\u001b[0m\u001b[0;34m]\u001b[0m\u001b[0;34m)\u001b[0m\u001b[0;34m\u001b[0m\u001b[0;34m\u001b[0m\u001b[0m\n",
      "\u001b[0;31mTypeError\u001b[0m: 'NoneType' object is not iterable"
     ]
    }
   ],
   "source": [
    "for item in print (list(chain.from_iterable(msg_group(example)))):\n"
   ]
  },
  {
   "cell_type": "code",
   "execution_count": null,
   "id": "f8092d43",
   "metadata": {},
   "outputs": [],
   "source": []
  }
 ],
 "metadata": {
  "kernelspec": {
   "display_name": "Python 3",
   "language": "python",
   "name": "python3"
  },
  "language_info": {
   "codemirror_mode": {
    "name": "ipython",
    "version": 3
   },
   "file_extension": ".py",
   "mimetype": "text/x-python",
   "name": "python",
   "nbconvert_exporter": "python",
   "pygments_lexer": "ipython3",
   "version": "3.8.5"
  }
 },
 "nbformat": 4,
 "nbformat_minor": 5
}
