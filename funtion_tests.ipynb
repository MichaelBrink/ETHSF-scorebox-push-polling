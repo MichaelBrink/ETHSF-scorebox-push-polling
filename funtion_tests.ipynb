{
 "cells": [
  {
   "cell_type": "code",
   "execution_count": 127,
   "id": "bd2f4779",
   "metadata": {},
   "outputs": [],
   "source": [
    "import time\n",
    "from datetime import date\n",
    "from datetime import datetime\n",
    "import os"
   ]
  },
  {
   "cell_type": "code",
   "execution_count": 86,
   "id": "42d9270b",
   "metadata": {},
   "outputs": [
    {
     "name": "stdout",
     "output_type": "stream",
     "text": [
      "2022-11-05 09:52:22.940262\n"
     ]
    }
   ],
   "source": [
    "print(datetime.today())"
   ]
  },
  {
   "cell_type": "code",
   "execution_count": 87,
   "id": "7a496aa7",
   "metadata": {},
   "outputs": [],
   "source": [
    "example = [['0x9cc9cd7df8f5a15d0a0068f8978264b969aaa1de', 'notify_24'], ['0x691C7c07A1B1698c56340d386d8cC7A823f6e2D8', 'notify_24'], ['0x4287996d1725e9883aa9d8f265a3f5bd2c8e4126', 'notify_48'], ['mayllonkim.testnet', 'notify_72'], ['0x17bc47ac80bf6be93fb1109d4ef0f8b4f8046f60', 'notify_48'], ['0x9022a898B401d368cBa4023ef375beEF165a8128', 'notify_48'], ['0x9017804aE02877C32739A7703400326e9Ac9a04d', 'notify_48'], ['0x61ec3Cd93E62a858408c92bdec903304c4C5436e', 'notify_48'], ['0xFa37d93a18Ed35139785629840B62f7C3aE7d088', 'notify_48'], ['0xe9c079525aCe13822A7845774F163f27eb5f21Da', 'notify_48'], ['0xfb3f73d7d057ba72c3283b7f3eec4d3445f86ee0', 'notify_48'], ['0x67c2952229d829b8bc40ba3c957e943d884fc739', 'notify_48'], ['yoonkim.testnet', 'notify_48']]"
   ]
  },
  {
   "cell_type": "code",
   "execution_count": 136,
   "id": "518eadfa",
   "metadata": {},
   "outputs": [],
   "source": [
    "def converter(exmaple):\n",
    "    output = []\n",
    "    for n in example:\n",
    "        if \".\" not in n[0]:\n",
    "            newstring=\"eip155:5:\"+n[0]\n",
    "            output.append(newstring)\n",
    "        else:\n",
    "            pass\n",
    "    return(output)"
   ]
  },
  {
   "cell_type": "code",
   "execution_count": 137,
   "id": "ec99fec2",
   "metadata": {},
   "outputs": [
    {
     "data": {
      "text/plain": [
       "['eip155:5:0x9cc9cd7df8f5a15d0a0068f8978264b969aaa1de',\n",
       " 'eip155:5:0x691C7c07A1B1698c56340d386d8cC7A823f6e2D8',\n",
       " 'eip155:5:0x4287996d1725e9883aa9d8f265a3f5bd2c8e4126',\n",
       " 'eip155:5:0x17bc47ac80bf6be93fb1109d4ef0f8b4f8046f60',\n",
       " 'eip155:5:0x9022a898B401d368cBa4023ef375beEF165a8128',\n",
       " 'eip155:5:0x9017804aE02877C32739A7703400326e9Ac9a04d',\n",
       " 'eip155:5:0x61ec3Cd93E62a858408c92bdec903304c4C5436e',\n",
       " 'eip155:5:0xFa37d93a18Ed35139785629840B62f7C3aE7d088',\n",
       " 'eip155:5:0xe9c079525aCe13822A7845774F163f27eb5f21Da',\n",
       " 'eip155:5:0xfb3f73d7d057ba72c3283b7f3eec4d3445f86ee0',\n",
       " 'eip155:5:0x67c2952229d829b8bc40ba3c957e943d884fc739']"
      ]
     },
     "execution_count": 137,
     "metadata": {},
     "output_type": "execute_result"
    }
   ],
   "source": [
    "converter(example)"
   ]
  },
  {
   "cell_type": "code",
   "execution_count": 1,
   "id": "0d4097e0",
   "metadata": {},
   "outputs": [],
   "source": [
    "example2 = ['0x61ec3Cd93E62a858408c92bdec903304c4C5436e',\n",
    " '0x691C7c07A1B1698c56340d386d8cC7A823f6e2D8',\n",
    " '0x9017804aE02877C32739A7703400326e9Ac9a04d',\n",
    " '0x9022a898B401d368cBa4023ef375beEF165a8128',\n",
    " '0xFa37d93a18Ed35139785629840B62f7C3aE7d088',\n",
    " '0xe9c079525aCe13822A7845774F163f27eb5f21Da']"
   ]
  },
  {
   "cell_type": "code",
   "execution_count": 2,
   "id": "f3e9f739",
   "metadata": {},
   "outputs": [],
   "source": [
    "\n",
    "out = []\n",
    "counter = 1\n",
    "for x in example2:\n",
    "    out.append([x, counter])\n",
    "    counter = counter + 1"
   ]
  },
  {
   "cell_type": "code",
   "execution_count": 3,
   "id": "4260a0d6",
   "metadata": {},
   "outputs": [
    {
     "data": {
      "text/plain": [
       "[['0x61ec3Cd93E62a858408c92bdec903304c4C5436e', 1],\n",
       " ['0x691C7c07A1B1698c56340d386d8cC7A823f6e2D8', 2],\n",
       " ['0x9017804aE02877C32739A7703400326e9Ac9a04d', 3],\n",
       " ['0x9022a898B401d368cBa4023ef375beEF165a8128', 4],\n",
       " ['0xFa37d93a18Ed35139785629840B62f7C3aE7d088', 5],\n",
       " ['0xe9c079525aCe13822A7845774F163f27eb5f21Da', 6]]"
      ]
     },
     "execution_count": 3,
     "metadata": {},
     "output_type": "execute_result"
    }
   ],
   "source": [
    "out"
   ]
  },
  {
   "cell_type": "code",
   "execution_count": 6,
   "id": "0b077625",
   "metadata": {},
   "outputs": [],
   "source": [
    "import numpy as np"
   ]
  },
  {
   "cell_type": "code",
   "execution_count": 43,
   "id": "27b540f7",
   "metadata": {},
   "outputs": [
    {
     "data": {
      "text/plain": [
       "1"
      ]
     },
     "execution_count": 43,
     "metadata": {},
     "output_type": "execute_result"
    }
   ],
   "source": [
    "target = \"0x61ec3Cd93E62a858408c92bdec903304c4C5436e\"\n",
    "a=np.array(out)\n",
    "np.where(a == target)[0].tolist()[0]+1"
   ]
  },
  {
   "cell_type": "code",
   "execution_count": null,
   "id": "ebec3565",
   "metadata": {},
   "outputs": [],
   "source": []
  }
 ],
 "metadata": {
  "kernelspec": {
   "display_name": "Python 3",
   "language": "python",
   "name": "python3"
  },
  "language_info": {
   "codemirror_mode": {
    "name": "ipython",
    "version": 3
   },
   "file_extension": ".py",
   "mimetype": "text/x-python",
   "name": "python",
   "nbconvert_exporter": "python",
   "pygments_lexer": "ipython3",
   "version": "3.8.5"
  }
 },
 "nbformat": 4,
 "nbformat_minor": 5
}
